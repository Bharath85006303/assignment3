{
 "cells": [
  {
   "cell_type": "code",
   "execution_count": 1,
   "id": "ccb47692",
   "metadata": {},
   "outputs": [
    {
     "name": "stdout",
     "output_type": "stream",
     "text": [
      "even_count is  5\n",
      "odd_count is 5\n"
     ]
    }
   ],
   "source": [
    "# 3 Write a Python program to count the number of even and odd numbers from a series of numbers.\n",
    "n=(1,2,3,4,5,6,7,8,9,10)\n",
    "even_count=0\n",
    "odd_count=0\n",
    "for i in n:\n",
    "    if i%2==0:\n",
    "        even_count=even_count+1\n",
    "print(\"even_count is \",even_count)\n",
    "for i in n:\n",
    "    if i%2==1:\n",
    "        odd_count=odd_count+1\n",
    "print(\"odd_count is\",odd_count)    \n",
    "                    "
   ]
  },
  {
   "cell_type": "code",
   "execution_count": null,
   "id": "a95829a9",
   "metadata": {},
   "outputs": [],
   "source": []
  }
 ],
 "metadata": {
  "kernelspec": {
   "display_name": "Python 3 (ipykernel)",
   "language": "python",
   "name": "python3"
  },
  "language_info": {
   "codemirror_mode": {
    "name": "ipython",
    "version": 3
   },
   "file_extension": ".py",
   "mimetype": "text/x-python",
   "name": "python",
   "nbconvert_exporter": "python",
   "pygments_lexer": "ipython3",
   "version": "3.9.12"
  }
 },
 "nbformat": 4,
 "nbformat_minor": 5
}
